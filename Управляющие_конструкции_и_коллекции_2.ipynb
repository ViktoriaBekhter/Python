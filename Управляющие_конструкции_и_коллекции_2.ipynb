{
  "nbformat": 4,
  "nbformat_minor": 0,
  "metadata": {
    "colab": {
      "provenance": [],
      "authorship_tag": "ABX9TyMeoHnsvtuSSny/dHyk0dlu"
    },
    "kernelspec": {
      "name": "python3",
      "display_name": "Python 3"
    },
    "language_info": {
      "name": "python"
    }
  },
  "cells": [
    {
      "cell_type": "markdown",
      "source": [
        "Задание 1 Дана переменная, в которой хранится словарь, содержащий гео-метки для каждого пользователя (пример структуры данных приведен ниже). Вам необходимо написать программу, которая выведет на экран множество уникальных гео-меток всех пользователей."
      ],
      "metadata": {
        "id": "sp772tTQVMvg"
      }
    },
    {
      "cell_type": "code",
      "source": [
        "ids = {\"user1\": (213, 213, 213, 15, 213),\n",
        "       \"user2\": (54, 54, 119, 119, 119),\n",
        "       \"user3\": (213, 98, 98, 35)}\n",
        "set_of_ids = []\n",
        "for value in ids.values():\n",
        "    set_of_ids.extend(value)\n",
        "print(\"Уникальные гео-метки пользователей\", set(set_of_ids))"
      ],
      "metadata": {
        "colab": {
          "base_uri": "https://localhost:8080/"
        },
        "id": "AzFPfENrW8GF",
        "outputId": "4cfffd20-bd2d-4e13-e3aa-d71c95108cd8"
      },
      "execution_count": null,
      "outputs": [
        {
          "output_type": "stream",
          "name": "stdout",
          "text": [
            "Уникальные гео-метки пользователей {98, 35, 15, 213, 54, 119}\n"
          ]
        }
      ]
    },
    {
      "cell_type": "markdown",
      "source": [
        "Задание 2 Дана переменная, в которой хранится список поисковых запросов пользователя (пример структуры данных приведен ниже, но запросы потенциально могут быть любые). Вам необходимо написать программу, которая выведет на экран распределение количества слов в запросах в требуемом виде."
      ],
      "metadata": {
        "id": "ZnSlJXslXMNb"
      }
    },
    {
      "cell_type": "code",
      "source": [
        "queries = [\n",
        "    'смотреть сериалы онлайн',\n",
        "    'новости спорта',\n",
        "    'афиша кино',\n",
        "    'курс доллара',\n",
        "    'сериалы этим летом',\n",
        "    'курс по питону',\n",
        "    'сериалы про спорт'\n",
        "]\n",
        "\n",
        "storage = {}\n",
        "for query in queries:\n",
        "    words = query.split()\n",
        "    if len(words) in storage.keys():\n",
        "        storage[len(words)] += 1\n",
        "    else:\n",
        "        storage.update({\n",
        "            len(words): 1\n",
        "        })\n",
        "for key, value in storage.items():\n",
        "    percentage = round((value / len(queries)) * 100, 2)\n",
        "    print(f'Поисковых запросов содержащих {key} слова: {percentage}%')"
      ],
      "metadata": {
        "colab": {
          "base_uri": "https://localhost:8080/"
        },
        "id": "Yo3z2vqRW8AT",
        "outputId": "1bf131fc-d2e9-4df1-f673-543c1cdfbfe4"
      },
      "execution_count": null,
      "outputs": [
        {
          "output_type": "stream",
          "name": "stdout",
          "text": [
            "Поисковых запросов содержащих 3 слова: 57.14%\n",
            "Поисковых запросов содержащих 2 слова: 42.86%\n"
          ]
        }
      ]
    },
    {
      "cell_type": "markdown",
      "source": [
        "Задание 3 Дана переменная, в которой хранится информация о затратах и доходе рекламных кампаний по различным источникам. Необходимо дополнить исходную структуру показателем ROI, который рассчитаем по формуле: ((revenue / cost) - 1) * 100"
      ],
      "metadata": {
        "id": "xMqRLE0rZH__"
      }
    },
    {
      "cell_type": "code",
      "source": [
        "results = {'vk': {'revenue': 103, 'cost': 98},\n",
        "           'yandex': {'revenue': 179, 'cost': 153},\n",
        "           'facebook': {'revenue': 103, 'cost': 110},\n",
        "           'adwords': {'revenue': 35, 'cost': 34},\n",
        "           'twitter': {'revenue': 11, 'cost': 24},\n",
        "           }\n",
        "\n",
        "for key, value in results.items():\n",
        "    value['ROI'] = round(((value['revenue'] / value['cost']) - 1)*100 , 2)\n",
        "    print(key, value)\n"
      ],
      "metadata": {
        "colab": {
          "base_uri": "https://localhost:8080/"
        },
        "id": "vGgGhcQvdUIV",
        "outputId": "91b8802a-716d-4b81-8627-7eef9adb6f09"
      },
      "execution_count": null,
      "outputs": [
        {
          "output_type": "stream",
          "name": "stdout",
          "text": [
            "vk {'revenue': 103, 'cost': 98, 'ROI': 5.1}\n",
            "yandex {'revenue': 179, 'cost': 153, 'ROI': 16.99}\n",
            "facebook {'revenue': 103, 'cost': 110, 'ROI': -6.36}\n",
            "adwords {'revenue': 35, 'cost': 34, 'ROI': 2.94}\n",
            "twitter {'revenue': 11, 'cost': 24, 'ROI': -54.17}\n"
          ]
        }
      ]
    },
    {
      "cell_type": "markdown",
      "source": [
        "Задание 4\n",
        "Дана переменная, в которой хранится статистика рекламных каналов по объемам продаж (пример структуры данных приведен ниже). Напишите программу, которая возвращает название канала с максимальным объемом продаж."
      ],
      "metadata": {
        "id": "-8hXZqFngez_"
      }
    },
    {
      "cell_type": "code",
      "source": [
        "stats = {'facebook': 55, 'yandex': 115, 'vk': 120, 'google': 99, 'email': 42, 'ok': 98}\n",
        "max_val = max(stats.items())\n",
        "print('Максимальный объем продаж на рекламном канале:', max(stats, key=stats.get))"
      ],
      "metadata": {
        "colab": {
          "base_uri": "https://localhost:8080/"
        },
        "id": "mpEINgHzghQR",
        "outputId": "477681d4-f745-41f0-b905-a19735c0d61b"
      },
      "execution_count": null,
      "outputs": [
        {
          "output_type": "stream",
          "name": "stdout",
          "text": [
            "Максимальный объем продаж на рекламном канале: vk\n"
          ]
        }
      ]
    }
  ]
}