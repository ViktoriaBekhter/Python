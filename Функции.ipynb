{
  "cells": [
    {
      "cell_type": "markdown",
      "metadata": {
        "id": "WNB-2ae4Ici3"
      },
      "source": [
        " Необходимо написать программу, которая будет на основе хранимых данных исполнять пользовательские команды.\n",
        "\n",
        "Исходные данные имеют следующую структуру:\n",
        "\n",
        "перечень всех документов\n",
        "documents = [\n",
        "    {'type': 'passport', 'number': '2207 876234', 'name': 'Василий Гупкин'},\n",
        "    {'type': 'invoice', 'number': '11-2', 'name': 'Геннадий Покемонов'},\n",
        "    {'type': 'insurance', 'number': '10006', 'name': 'Аристарх Павлов'}\n",
        "]\n",
        "перечень полок, на которых хранятся документы (если документ есть в documents, то он обязательно должен быть и в directories)\n",
        "directories = {\n",
        "    '1': ['2207 876234', '11-2'],\n",
        "    '2': ['10006'],\n",
        "    '3': []\n",
        "}\n",
        "Общие требования к программе:\n",
        "\n",
        "код должен быть грамотно декомпозирован (каждая функция отвечает за свою конкретную задачу, дублирующийся функционал переиспользуется, а его код не повторяется);\n",
        "в коде отсутствуют глобальные переменные (за исключением documents и directories);\n",
        "пользовательский ввод обрабатывается в цикле while до тех пор, пока пользователь явно не завершит программу (вводом команды \"q\").\n",
        "\n",
        "Пользователь по команде \"p\" может узнать владельца документа по его номеру.\n",
        "Пользователь по команде \"s\" может по номеру документа узнать на какой полке он хранится.\n",
        "Пользователь по команде \"l\" может увидеть полную информацию по всем документам.\n",
        "Пользователь по команде \"ads\" может добавить новую полку.\n",
        "Пользователь по команде \"ds\" может удалить существующую полку из данных (только если она пустая).\n"
      ]
    },
    {
      "cell_type": "code",
      "execution_count": null,
      "metadata": {
        "id": "hnMgfamYownN"
      },
      "outputs": [],
      "source": [
        "documents = [{'type': 'passport', 'number': '2207 876234', 'name': 'Василий Гупкин'},\n",
        "             {'type': 'invoice', 'number': '11-2', 'name': 'Геннадий Покемонов'},\n",
        "             {'type': 'insurance', 'number': '10006', 'name': 'Аристарх Павлов'}]\n",
        "\n",
        "directories = {'1': ['2207 876234', '11-2'], '2': ['10006'], '3': []}"
      ]
    },
    {
      "cell_type": "code",
      "execution_count": null,
      "metadata": {
        "id": "UHSEQUvzo15y"
      },
      "outputs": [],
      "source": [
        "def owner(number_doc): #Функция возвращает по номеру документа данные о его владельце\n",
        "    owner_name = ''\n",
        "    for row in documents:\n",
        "        if row['number'] == number_doc:\n",
        "            owner_name = 'Владелец документа: ' + row['name']\n",
        "    if owner_name == '':\n",
        "        owner_name = 'Документ не найден в базе'\n",
        "    return owner_name"
      ]
    },
    {
      "cell_type": "code",
      "execution_count": null,
      "metadata": {
        "id": "zek_XVK7pQro"
      },
      "outputs": [],
      "source": [
        "def doc_dir(number_doc): #Функция возвращает по номеру документа данные о месте хранения\n",
        "    shelf = ''\n",
        "    for item, values in directories.items():\n",
        "        if number_doc in values:\n",
        "            shelf = 'Документ хранится на полке: ' + item\n",
        "    if shelf == '':\n",
        "        shelf='Документ не найден в базе'\n",
        "    return shelf"
      ]
    },
    {
      "cell_type": "code",
      "execution_count": null,
      "metadata": {
        "id": "zN0JwKSvqWfS"
      },
      "outputs": [],
      "source": [
        "def list_doc(): # Функция возвращает список документов на полках\n",
        "    for i in documents:\n",
        "        for item, values in directories.items():\n",
        "            if i['number'] in values:\n",
        "                print('№ ' + i['number'] + ', тип: ' + i['type'] + ', владелец: ' + i['name'] + ', полка хранения: ' + item)"
      ]
    },
    {
      "cell_type": "code",
      "execution_count": null,
      "metadata": {
        "id": "nAIEK1oRqMZZ"
      },
      "outputs": [],
      "source": [
        "def list_shelf(): # Функция возвращает список полок\n",
        "    listshelf = ''\n",
        "    for item, values in directories.items():\n",
        "        listshelf = listshelf + item + ','\n",
        "    listshelf = listshelf[:-1] + '.'\n",
        "    return listshelf"
      ]
    },
    {
      "cell_type": "code",
      "execution_count": null,
      "metadata": {
        "id": "h2SnZ-QBqheS"
      },
      "outputs": [],
      "source": [
        "def del_shelf(number_shelf): # Функция удаляе полку, если она не пустая\n",
        "    count = 0\n",
        "    for item, values in directories.items():\n",
        "        if number_shelf in item:\n",
        "            count = 1\n",
        "            if values != []:\n",
        "                count = 2\n",
        "    if count == 1:\n",
        "        del directories[number_shelf]\n",
        "        print('Полка удалена. Текущий перечень полок: '+ list_shelf())\n",
        "    elif count == 2:\n",
        "        print('На полке есть документа, удалите их перед удалением полки. Текущий перечень полок: ' + list_shelf())\n",
        "    else:\n",
        "        print('Такая полка не существует. Текущий перечень полок: ' + list_shelf())"
      ]
    },
    {
      "cell_type": "code",
      "execution_count": null,
      "metadata": {
        "id": "0NlvPQ8FqjN4"
      },
      "outputs": [],
      "source": [
        "def add_shelf(number_shelf): # Функция добавляет полку, если такой ещё нет\n",
        "    count = 0\n",
        "    for item, values in directories.items():\n",
        "        if number_shelf in item:\n",
        "            count = 1\n",
        "    if count == 1:\n",
        "        print('Такая полка уже существует. Текущий перечень полок: ' + list_shelf())\n",
        "    else:\n",
        "        directories[number_shelf]=[]\n",
        "        print('Полка добавлена. Текущий перечень полок: '+ list_shelf())"
      ]
    },
    {
      "cell_type": "code",
      "execution_count": null,
      "metadata": {
        "id": "avzGiwO0psrp"
      },
      "outputs": [],
      "source": [
        "def main():\n",
        "    a = 0\n",
        "    while a < 1:\n",
        "        command_input=input('Введите команду: \\n')\n",
        "        if command_input == 'p':\n",
        "            number_input=input('Введите номер документа: \\n')\n",
        "            print(owner(number_input))\n",
        "        elif command_input == 's':\n",
        "            number_input=input('Введите номер документа: \\n')\n",
        "            print(doc_dir(number_input))\n",
        "        elif command_input == 'l':\n",
        "            list_doc()\n",
        "        elif command_input == 'as':\n",
        "            number_input=input('Введите номер полки: \\n')\n",
        "            add_shelf(number_input)\n",
        "        elif command_input == 'ds':\n",
        "            number_input=input('Введите номер полки: \\n')\n",
        "            del_shelf(number_input)\n",
        "        elif command_input == 'q':\n",
        "            break\n",
        "        else:\n",
        "            print('Нет такой команды')"
      ]
    },
    {
      "cell_type": "code",
      "execution_count": null,
      "metadata": {
        "colab": {
          "background_save": true,
          "base_uri": "https://localhost:8080/"
        },
        "id": "cLxNYKs8qDZb",
        "outputId": "f6a8f56e-8e6f-4f56-a1e9-1c4e61ab4a35"
      },
      "outputs": [
        {
          "name": "stdout",
          "output_type": "stream",
          "text": [
            "Документ не найден в базе\n"
          ]
        }
      ],
      "source": [
        "main()"
      ]
    }
  ],
  "metadata": {
    "colab": {
      "provenance": [],
      "authorship_tag": "ABX9TyMSeGdwjoP2mHcwkSNjxJEW"
    },
    "kernelspec": {
      "display_name": "Python 3",
      "name": "python3"
    },
    "language_info": {
      "name": "python"
    }
  },
  "nbformat": 4,
  "nbformat_minor": 0
}