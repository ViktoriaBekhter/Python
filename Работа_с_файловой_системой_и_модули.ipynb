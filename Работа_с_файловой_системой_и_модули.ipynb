{
  "nbformat": 4,
  "nbformat_minor": 0,
  "metadata": {
    "colab": {
      "provenance": [],
      "authorship_tag": "ABX9TyNsrEXdd3y8ax1KLACWSO6x"
    },
    "kernelspec": {
      "name": "python3",
      "display_name": "Python 3"
    },
    "language_info": {
      "name": "python"
    }
  },
  "cells": [
    {
      "cell_type": "markdown",
      "source": [
        "\n",
        "Задание 1. Переведите содержимое файла purchase_log.txt* в словарь purchases вида: {‘1840e0b9d4’: ‘Продукты’, …}"
      ],
      "metadata": {
        "id": "OskrRepA_Z7y"
      }
    },
    {
      "cell_type": "code",
      "execution_count": null,
      "metadata": {
        "id": "ldgmO4qhRRsR"
      },
      "outputs": [],
      "source": [
        "import json"
      ]
    },
    {
      "cell_type": "code",
      "source": [
        "import json\n",
        "\n",
        "new_dict = {}\n",
        "with open('purchase_log.txt', encoding='utf-8') as f:\n",
        "    for line in f:\n",
        "        line = line.strip()\n",
        "        dict_ = json.loads(line)\n",
        "\n",
        "        # Проверяем, что ключи существуют и значение не пустое\n",
        "        if 'user_id' in dict_ and 'category' in dict_:\n",
        "            key = dict_['user_id']\n",
        "            value = dict_['category']\n",
        "            new_dict.setdefault(key, value)\n",
        "\n",
        "# Выводим полученный словарь для проверки\n",
        "print(new_dict)\n"
      ],
      "metadata": {
        "id": "-NHWVm_4L8w8"
      },
      "execution_count": null,
      "outputs": []
    },
    {
      "cell_type": "code",
      "source": [
        "new_dict={}\n",
        "with open('purchase_log.txt', encoding='utf-8') as f :\n",
        "    for line in f:\n",
        "        line = line.strip()\n",
        "        dict_ = json.loads(line)\n",
        "        #print(dict_)\n",
        "        key=dict_['user_id']\n",
        "        value=dict_['category']\n",
        "        if key!='user_id':\n",
        "            new_dict.setdefault(key,value)"
      ],
      "metadata": {
        "id": "fXw5IK5aL-7Y"
      },
      "execution_count": null,
      "outputs": []
    },
    {
      "cell_type": "code",
      "source": [
        "final_dict = {}"
      ],
      "metadata": {
        "id": "9CtGweWnUL7Z"
      },
      "execution_count": null,
      "outputs": []
    },
    {
      "cell_type": "markdown",
      "source": [
        "Задание 2. Для каждого user_id в файле visit_log.csv определите третий столбец с категорией покупки, если покупка была, сам файл visit_log.csv* изменять не надо. Запишите в файл funnel.csv визиты из файла visit_log.csv, в которых были покупки с указанием категории. Учтите условия на данные: содержимое purchase_log.txt помещается в оперативную память компьютера; содержимое visit_log.csv* — нет; используйте только построчную обработку этого файла."
      ],
      "metadata": {
        "id": "Ujsysmv0_b8R"
      }
    },
    {
      "cell_type": "code",
      "source": [
        " final_dict[key] = value\n",
        "\n",
        "\n",
        "with open('visit_log.csv', 'r') as f, open('funnel.csv','w') as f_2:\n",
        "  for i, line in enumerate(f):\n",
        "    line = line.strip().split(',')\n",
        "    if line[0] in final_dict.keys():\n",
        "      line.append(final_dict[line[0]])\n",
        "      ad_line = ','.join(line)\n",
        "\n",
        "      f_2.write(ad_line + '\\n')"
      ],
      "metadata": {
        "id": "zeGpsDcQMATJ"
      },
      "execution_count": null,
      "outputs": []
    }
  ]
}